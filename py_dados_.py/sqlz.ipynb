{
 "cells": [
  {
   "cell_type": "code",
   "execution_count": 9,
   "metadata": {},
   "outputs": [
    {
     "name": "stdout",
     "output_type": "stream",
     "text": [
      "[]\n"
     ]
    }
   ],
   "source": [
    "import sqlite3  #usamos para mexer no banco de dados\n",
    "import pandas as pd\n",
    "\n",
    "con = sqlite3.connect(\"cap12_dsa.db\")\n",
    "\n",
    "cursor = con.cursor()# abrindo um cursor para mexer nos dados dentro do banco de dados\n",
    "\n",
    "# querry extrai os nomes das colunas no banco de dados\n",
    "sql_query = \"\"\"SELECT name FROM sqlite_master WHERE type = 'table';\"\"\"\n",
    "\n",
    "cursor.execute(sql_query) #executa a querry\n",
    "\n",
    "print(cursor.fetchall())\n"
   ]
  }
 ],
 "metadata": {
  "kernelspec": {
   "display_name": "py_dados_.py",
   "language": "python",
   "name": "python3"
  },
  "language_info": {
   "codemirror_mode": {
    "name": "ipython",
    "version": 3
   },
   "file_extension": ".py",
   "mimetype": "text/x-python",
   "name": "python",
   "nbconvert_exporter": "python",
   "pygments_lexer": "ipython3",
   "version": "3.12.2"
  }
 },
 "nbformat": 4,
 "nbformat_minor": 2
}
