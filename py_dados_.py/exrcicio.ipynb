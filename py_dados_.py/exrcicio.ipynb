{
 "cells": [
  {
   "cell_type": "code",
   "execution_count": 1,
   "metadata": {},
   "outputs": [
    {
     "name": "stderr",
     "output_type": "stream",
     "text": [
      "C:\\Users\\marce\\AppData\\Local\\Temp\\ipykernel_14908\\2372255595.py:14: FutureWarning: Downcasting behavior in `replace` is deprecated and will be removed in a future version. To retain the old behavior, explicitly call `result.infer_objects(copy=False)`. To opt-in to the future behavior, set `pd.set_option('future.no_silent_downcasting', True)`\n",
      "  arq ['style'] = arq['style'].replace(\"white\" , 1)\n"
     ]
    },
    {
     "name": "stdout",
     "output_type": "stream",
     "text": [
      "Acurácia 0.9964102564102564\n",
      "4980    1\n",
      "2611    1\n",
      "1080    0\n",
      "Name: style, dtype: int64\n"
     ]
    },
    {
     "data": {
      "text/plain": [
       "array([1, 1, 0], dtype=int64)"
      ]
     },
     "execution_count": 1,
     "metadata": {},
     "output_type": "execute_result"
    }
   ],
   "source": [
    "import pandas as pd\n",
    "import matplotlib as plt\n",
    "\n",
    "\n",
    "\n",
    "arq = pd.read_csv('C:/Users/marce/Downloads/wine_dataset.csv')\n",
    "\n",
    "\n",
    "\n",
    "#primeiro temos que transformar a palavra 'red' e 'white' em algo numérico\n",
    "\n",
    "#1\n",
    "arq ['style'] = arq['style'].replace(\"red\" , 0) #substituir red por 0\n",
    "arq ['style'] = arq['style'].replace(\"white\" , 1) \n",
    "\n",
    "y = arq[\"style\"] #mostra o apenas o style\n",
    "x = arq.drop(\"style\", axis = 1) #mostra todos menos style\n",
    "\n",
    "#ele separou o x (tendo apenas a coluna style) pata tentar ver se o machine learning consegue prever os numeros corretos\n",
    "\n",
    "from sklearn.model_selection import train_test_split\n",
    "\n",
    "x_trainee , x_teste, y_treino , y_teste = train_test_split(x, y , test_size = 0.3) \n",
    "\n",
    "from sklearn.ensemble import ExtraTreesClassifier #criando o machine learning\n",
    "modelo = ExtraTreesClassifier()\n",
    "modelo.fit(x_trainee , y_treino) # o .fit seerve para aplicar o machine learning nos dados\n",
    "\n",
    "\n",
    "#imprimindo resultados:\n",
    "resultado = modelo.score(x_teste, y_teste) #funcao .score vai comparar o x_teste e y_teste para ver os resultados corretos\n",
    "print(\"Acurácia\" , resultado) #aqui mostra qnts % ele acerta dos dados\n",
    "\n",
    "#o treino do machine learning foi feito e ele acertou 99,7 % dos dados\n",
    "\n",
    "print(y_teste[400:403]) #o modelo nao treino com esses\n",
    "\n",
    "x_teste[400:403]\n",
    "\n",
    "previsao = modelo.predict(x_teste[400:403])\n",
    "\n",
    "previsao #resultado da previsao"
   ]
  }
 ],
 "metadata": {
  "kernelspec": {
   "display_name": "py_dados_.py",
   "language": "python",
   "name": "python3"
  },
  "language_info": {
   "codemirror_mode": {
    "name": "ipython",
    "version": 3
   },
   "file_extension": ".py",
   "mimetype": "text/x-python",
   "name": "python",
   "nbconvert_exporter": "python",
   "pygments_lexer": "ipython3",
   "version": "3.12.2"
  }
 },
 "nbformat": 4,
 "nbformat_minor": 2
}
